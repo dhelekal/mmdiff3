{
 "cells": [
  {
   "cell_type": "code",
   "execution_count": 1,
   "metadata": {},
   "outputs": [],
   "source": [
    "%load_ext rpy2.ipython"
   ]
  },
  {
   "cell_type": "code",
   "execution_count": 3,
   "metadata": {},
   "outputs": [
    {
     "name": "stdout",
     "output_type": "stream",
     "text": [
      "TensorFlow version: 1.10.0\n",
      "TensorFlow version: 1.10.0\n",
      "TensorFlow version: 1.10.0\n"
     ]
    },
    {
     "name": "stderr",
     "output_type": "stream",
     "text": [
      "2019-06-11 11:45:36.180508: I tensorflow/core/platform/cpu_feature_guard.cc:141] Your CPU supports instructions that this TensorFlow binary was not compiled to use: SSE4.1 SSE4.2 AVX AVX2 FMA\n",
      "2019-06-11 11:45:44.168750: I tensorflow/core/platform/cpu_feature_guard.cc:141] Your CPU supports instructions that this TensorFlow binary was not compiled to use: SSE4.1 SSE4.2 AVX AVX2 FMA\n",
      "2019-06-11 11:45:56.622347: I tensorflow/core/platform/cpu_feature_guard.cc:141] Your CPU supports instructions that this TensorFlow binary was not compiled to use: SSE4.1 SSE4.2 AVX AVX2 FMA\n"
     ]
    }
   ],
   "source": [
    "%%bash\n",
    "export WD=~/Simulation_result\n",
    "export CONF=$(pwd)/Exp_conf_test\n",
    "export SCRIPT=$(pwd)/simulation.py\n",
    "\n",
    "mkdir $WD\n",
    "cd $WD\n",
    "\n",
    "for CONFIG in $CONF/*.json\n",
    "do\n",
    "    python3 $SCRIPT $CONFIG\n",
    "done"
   ]
  },
  {
   "cell_type": "code",
   "execution_count": 6,
   "metadata": {},
   "outputs": [
    {
     "name": "stdout",
     "output_type": "stream",
     "text": [
      "\n",
      "Error in names(x) <- value : \n",
      "  'names' attribute [4] must be the same length as the vector [0]\n"
     ]
    },
    {
     "name": "stderr",
     "output_type": "stream",
     "text": [
      "/Users/dhelekal/anaconda3/envs/py35v3/lib/python3.5/site-packages/rpy2/rinterface/__init__.py:145: RRuntimeWarning: Error in names(x) <- value : \n",
      "  'names' attribute [4] must be the same length as the vector [0]\n",
      "\n",
      "  warnings.warn(x, RRuntimeWarning)\n"
     ]
    }
   ],
   "source": [
    "%%R\n",
    "experiments <- list.dirs(path = \"~/Simulation_result\", full.names = TRUE, recursive = FALSE)\n",
    "\n",
    "datalist <- c()\n",
    "x <- c(\"Experiment\", \"Pattern\", \"Peak\", \"Path\")\n",
    "\n",
    "for (experiment in experiments){\n",
    "    exp_name <- basename(experiment)\n",
    "    patterns <- list.dirs(path = experiment, full.names = TRUE, recursive = FALSE)\n",
    "    for (pattern in patterns) {\n",
    "        pattern_name<-basename(pattern)\n",
    "        peaks <- list.dirs(path = pattern, full.names = TRUE, recursive = FALSE)\n",
    "        for (peak in peaks) {\n",
    "            peak_name<-basename(peak)\n",
    "            peak_file <- list.files(path = peak, full.names = TRUE, recursive = FALSE)[1]\n",
    "            datalist <- rbind(datalist, c(exp_name,pattern_name,peak_name,peak_file))\n",
    "        }\n",
    "    }\n",
    "}\n",
    "\n",
    "datadf = data.frame(datalist)\n",
    "colnames(datadf) <- x"
   ]
  },
  {
   "cell_type": "code",
   "execution_count": 4,
   "metadata": {},
   "outputs": [
    {
     "name": "stderr",
     "output_type": "stream",
     "text": [
      "mkdir: out: File exists\n"
     ]
    }
   ],
   "source": [
    "%%bash\n",
    "mkdir ~/experiment_out"
   ]
  },
  {
   "cell_type": "code",
   "execution_count": 5,
   "metadata": {},
   "outputs": [
    {
     "name": "stderr",
     "output_type": "stream",
     "text": [
      "/Users/dhelekal/anaconda3/envs/py35v3/lib/python3.5/site-packages/rpy2/rinterface/__init__.py:145: RRuntimeWarning: Loading required package: Rsamtools\n",
      "\n",
      "  warnings.warn(x, RRuntimeWarning)\n",
      "/Users/dhelekal/anaconda3/envs/py35v3/lib/python3.5/site-packages/rpy2/rinterface/__init__.py:145: RRuntimeWarning: Loading required package: GenomeInfoDb\n",
      "\n",
      "  warnings.warn(x, RRuntimeWarning)\n",
      "/Users/dhelekal/anaconda3/envs/py35v3/lib/python3.5/site-packages/rpy2/rinterface/__init__.py:145: RRuntimeWarning: Loading required package: BiocGenerics\n",
      "\n",
      "  warnings.warn(x, RRuntimeWarning)\n",
      "/Users/dhelekal/anaconda3/envs/py35v3/lib/python3.5/site-packages/rpy2/rinterface/__init__.py:145: RRuntimeWarning: Loading required package: parallel\n",
      "\n",
      "  warnings.warn(x, RRuntimeWarning)\n",
      "/Users/dhelekal/anaconda3/envs/py35v3/lib/python3.5/site-packages/rpy2/rinterface/__init__.py:145: RRuntimeWarning: \n",
      "Attaching package: ‘BiocGenerics’\n",
      "\n",
      "\n",
      "  warnings.warn(x, RRuntimeWarning)\n",
      "/Users/dhelekal/anaconda3/envs/py35v3/lib/python3.5/site-packages/rpy2/rinterface/__init__.py:145: RRuntimeWarning: The following objects are masked from ‘package:parallel’:\n",
      "\n",
      "    clusterApply, clusterApplyLB, clusterCall, clusterEvalQ,\n",
      "    clusterExport, clusterMap, parApply, parCapply, parLapply,\n",
      "    parLapplyLB, parRapply, parSapply, parSapplyLB\n",
      "\n",
      "\n",
      "  warnings.warn(x, RRuntimeWarning)\n",
      "/Users/dhelekal/anaconda3/envs/py35v3/lib/python3.5/site-packages/rpy2/rinterface/__init__.py:145: RRuntimeWarning: The following objects are masked from ‘package:stats’:\n",
      "\n",
      "    IQR, mad, sd, var, xtabs\n",
      "\n",
      "\n",
      "  warnings.warn(x, RRuntimeWarning)\n",
      "/Users/dhelekal/anaconda3/envs/py35v3/lib/python3.5/site-packages/rpy2/rinterface/__init__.py:145: RRuntimeWarning: The following objects are masked from ‘package:base’:\n",
      "\n",
      "    anyDuplicated, append, as.data.frame, basename, cbind, colMeans,\n",
      "    colnames, colSums, dirname, do.call, duplicated, eval, evalq,\n",
      "    Filter, Find, get, grep, grepl, intersect, is.unsorted, lapply,\n",
      "    lengths, Map, mapply, match, mget, order, paste, pmax, pmax.int,\n",
      "    pmin, pmin.int, Position, rank, rbind, Reduce, rowMeans, rownames,\n",
      "    rowSums, sapply, setdiff, sort, table, tapply, union, unique,\n",
      "    unsplit, which, which.max, which.min\n",
      "\n",
      "\n",
      "  warnings.warn(x, RRuntimeWarning)\n",
      "/Users/dhelekal/anaconda3/envs/py35v3/lib/python3.5/site-packages/rpy2/rinterface/__init__.py:145: RRuntimeWarning: Loading required package: S4Vectors\n",
      "\n",
      "  warnings.warn(x, RRuntimeWarning)\n",
      "/Users/dhelekal/anaconda3/envs/py35v3/lib/python3.5/site-packages/rpy2/rinterface/__init__.py:145: RRuntimeWarning: Loading required package: stats4\n",
      "\n",
      "  warnings.warn(x, RRuntimeWarning)\n",
      "/Users/dhelekal/anaconda3/envs/py35v3/lib/python3.5/site-packages/rpy2/rinterface/__init__.py:145: RRuntimeWarning: \n",
      "Attaching package: ‘S4Vectors’\n",
      "\n",
      "\n",
      "  warnings.warn(x, RRuntimeWarning)\n",
      "/Users/dhelekal/anaconda3/envs/py35v3/lib/python3.5/site-packages/rpy2/rinterface/__init__.py:145: RRuntimeWarning: The following object is masked from ‘package:base’:\n",
      "\n",
      "    expand.grid\n",
      "\n",
      "\n",
      "  warnings.warn(x, RRuntimeWarning)\n",
      "/Users/dhelekal/anaconda3/envs/py35v3/lib/python3.5/site-packages/rpy2/rinterface/__init__.py:145: RRuntimeWarning: Loading required package: IRanges\n",
      "\n",
      "  warnings.warn(x, RRuntimeWarning)\n",
      "/Users/dhelekal/anaconda3/envs/py35v3/lib/python3.5/site-packages/rpy2/rinterface/__init__.py:145: RRuntimeWarning: Loading required package: GenomicRanges\n",
      "\n",
      "  warnings.warn(x, RRuntimeWarning)\n",
      "/Users/dhelekal/anaconda3/envs/py35v3/lib/python3.5/site-packages/rpy2/rinterface/__init__.py:145: RRuntimeWarning: Loading required package: Biostrings\n",
      "\n",
      "  warnings.warn(x, RRuntimeWarning)\n",
      "/Users/dhelekal/anaconda3/envs/py35v3/lib/python3.5/site-packages/rpy2/rinterface/__init__.py:145: RRuntimeWarning: Loading required package: XVector\n",
      "\n",
      "  warnings.warn(x, RRuntimeWarning)\n",
      "/Users/dhelekal/anaconda3/envs/py35v3/lib/python3.5/site-packages/rpy2/rinterface/__init__.py:145: RRuntimeWarning: \n",
      "Attaching package: ‘Biostrings’\n",
      "\n",
      "\n",
      "  warnings.warn(x, RRuntimeWarning)\n",
      "/Users/dhelekal/anaconda3/envs/py35v3/lib/python3.5/site-packages/rpy2/rinterface/__init__.py:145: RRuntimeWarning: The following object is masked from ‘package:base’:\n",
      "\n",
      "    strsplit\n",
      "\n",
      "\n",
      "  warnings.warn(x, RRuntimeWarning)\n",
      "/Users/dhelekal/anaconda3/envs/py35v3/lib/python3.5/site-packages/rpy2/rinterface/__init__.py:145: RRuntimeWarning: Loading required package: Biobase\n",
      "\n",
      "  warnings.warn(x, RRuntimeWarning)\n",
      "/Users/dhelekal/anaconda3/envs/py35v3/lib/python3.5/site-packages/rpy2/rinterface/__init__.py:145: RRuntimeWarning: Welcome to Bioconductor\n",
      "\n",
      "    Vignettes contain introductory material; view with\n",
      "    'browseVignettes()'. To cite Bioconductor, see\n",
      "    'citation(\"Biobase\")', and for packages 'citation(\"pkgname\")'.\n",
      "\n",
      "\n",
      "  warnings.warn(x, RRuntimeWarning)\n",
      "/Users/dhelekal/anaconda3/envs/py35v3/lib/python3.5/site-packages/rpy2/rinterface/__init__.py:145: RRuntimeWarning: Loading required package: SummarizedExperiment\n",
      "\n",
      "  warnings.warn(x, RRuntimeWarning)\n",
      "/Users/dhelekal/anaconda3/envs/py35v3/lib/python3.5/site-packages/rpy2/rinterface/__init__.py:145: RRuntimeWarning: Loading required package: DelayedArray\n",
      "\n",
      "  warnings.warn(x, RRuntimeWarning)\n",
      "/Users/dhelekal/anaconda3/envs/py35v3/lib/python3.5/site-packages/rpy2/rinterface/__init__.py:145: RRuntimeWarning: Loading required package: matrixStats\n",
      "\n",
      "  warnings.warn(x, RRuntimeWarning)\n",
      "/Users/dhelekal/anaconda3/envs/py35v3/lib/python3.5/site-packages/rpy2/rinterface/__init__.py:145: RRuntimeWarning: \n",
      "Attaching package: ‘matrixStats’\n",
      "\n",
      "\n",
      "  warnings.warn(x, RRuntimeWarning)\n",
      "/Users/dhelekal/anaconda3/envs/py35v3/lib/python3.5/site-packages/rpy2/rinterface/__init__.py:145: RRuntimeWarning: The following objects are masked from ‘package:Biobase’:\n",
      "\n",
      "    anyMissing, rowMedians\n",
      "\n",
      "\n",
      "  warnings.warn(x, RRuntimeWarning)\n",
      "/Users/dhelekal/anaconda3/envs/py35v3/lib/python3.5/site-packages/rpy2/rinterface/__init__.py:145: RRuntimeWarning: Loading required package: BiocParallel\n",
      "\n",
      "  warnings.warn(x, RRuntimeWarning)\n",
      "/Users/dhelekal/anaconda3/envs/py35v3/lib/python3.5/site-packages/rpy2/rinterface/__init__.py:145: RRuntimeWarning: \n",
      "Attaching package: ‘DelayedArray’\n",
      "\n",
      "\n",
      "  warnings.warn(x, RRuntimeWarning)\n",
      "/Users/dhelekal/anaconda3/envs/py35v3/lib/python3.5/site-packages/rpy2/rinterface/__init__.py:145: RRuntimeWarning: The following objects are masked from ‘package:matrixStats’:\n",
      "\n",
      "    colMaxs, colMins, colRanges, rowMaxs, rowMins, rowRanges\n",
      "\n",
      "\n",
      "  warnings.warn(x, RRuntimeWarning)\n",
      "/Users/dhelekal/anaconda3/envs/py35v3/lib/python3.5/site-packages/rpy2/rinterface/__init__.py:145: RRuntimeWarning: The following object is masked from ‘package:Biostrings’:\n",
      "\n",
      "    type\n",
      "\n",
      "\n",
      "  warnings.warn(x, RRuntimeWarning)\n",
      "/Users/dhelekal/anaconda3/envs/py35v3/lib/python3.5/site-packages/rpy2/rinterface/__init__.py:145: RRuntimeWarning: The following objects are masked from ‘package:base’:\n",
      "\n",
      "    aperm, apply\n",
      "\n",
      "\n",
      "  warnings.warn(x, RRuntimeWarning)\n",
      "/Users/dhelekal/anaconda3/envs/py35v3/lib/python3.5/site-packages/rpy2/rinterface/__init__.py:145: RRuntimeWarning: \n",
      "\n",
      "  warnings.warn(x, RRuntimeWarning)\n"
     ]
    }
   ],
   "source": [
    "%%R\n",
    "library(MMDiff3)\n",
    "library(reshape2)\n",
    "library(ggplot2)\n",
    "library(GenomicRanges)\n",
    "library(DiffBind)\n",
    "library(devtools)"
   ]
  },
  {
   "cell_type": "code",
   "execution_count": 6,
   "metadata": {},
   "outputs": [],
   "source": [
    "%%R\n",
    "replicas <- as.list(unique(datadf[['Experiment']]))\n",
    "n_mods <- 10\n",
    "\n",
    "modnames<-sapply(0:9, function(i) paste0('mod_',i))\n",
    "samplesheet <- data.frame(list(modnames, modnames, rep(1, 10), rep('Ctr', 10), rep(1,10), rep('macs', 10)))\n",
    "colnames(samplesheet)<-c('SampleID', 'Tissue', 'Factor', 'Condition', 'Replicate', 'PeakCaller')\n",
    "\n",
    "write.csv(samplesheet,'~/experiment_out/SampleSheet.csv', row.names=FALSE)\n",
    "for (replica in replicas){\n",
    "    replica_df <- subset(datadf, Experiment == replica)\n",
    "    peaks <- as.list(unique(replica_df[['Peak']]))\n",
    "    patterns <- as.list(unique(replica_df[['Pattern']]))\n",
    "    \n",
    "    for (pattern in patterns) { \n",
    "        ExperimentData <- list(genome='none',\n",
    "                       dataDir=\".\",\n",
    "                       sampleSheet =\"~/experiment_out/SampleSheet.csv\")\n",
    "        MetaData <- list('ExpData' = ExperimentData)\n",
    "        MMD <- DBAmmd(MetaData)\n",
    "\n",
    "        peak_df <- data.frame(chr=c(0:(length(peaks)-1)))\n",
    "        peak_df$start <- 0\n",
    "        peak_df$end <- 3300\n",
    "        regions <- makeGRangesFromDataFrame(peak_df)\n",
    "        MMD <- setRegions(MMD, regions)\n",
    "    \n",
    "        Meta <- metaData(MMD)\n",
    "        Meta$AnaData$pairedEnd <- rep(FALSE, n_mods)\n",
    "        Meta$AnaData$PeakBoundary <- 200\n",
    "        MMD@MetaData <- Meta\n",
    "        ################################   \n",
    "        pattern_df = subset(replica_df, Pattern == pattern)\n",
    "        dir.create(paste0(\"~/experiment_out\",\"/\",replica))\n",
    "        dirname <- paste0(\"~/experiment_out\",\"/\",replica,\"/\",pattern)\n",
    "        dir.create(dirname)\n",
    "                \n",
    "        read_data = by(data = pattern_df$Path,\n",
    "                     INDICES=pattern_df$Peak,\n",
    "                     FUN=function(x) data.frame(read.csv(file=paste(x), header=TRUE, sep=\",\")))\n",
    "    \n",
    "        readList <- list()\n",
    "        rawCounts = matrix(, nrow = length(peaks), ncol = n_mods)\n",
    "\n",
    "        rnames <-c()\n",
    "        cnames <-c()\n",
    "          \n",
    "        for (i in c(0:(length(peaks)-1))){\n",
    "            rnames <-c(rnames, paste(\"chr\",i, \":0-3300\",sep=\"\"))\n",
    "        }\n",
    "                       \n",
    "        for(i in c(0:(n_mods-1))) {\n",
    "            cnames <-c(cnames, paste(\"mod_\",i, sep=\"\"))\n",
    "        }\n",
    "                       \n",
    "        rownames(rawCounts) <- rnames\n",
    "        colnames(rawCounts) <- cnames\n",
    "                       \n",
    "        for(i in c(0:(n_mods-1))) {\n",
    "            col <- paste(\"mod_\",i, sep=\"\")\n",
    "            tempList = list() \n",
    "            j<-0\n",
    "            for(peak in peaks){\n",
    "                row<-paste(\"chr\",j, \":0-3300\",sep=\"\")\n",
    "                df<-subset(read_data[[peak]], modification==i)\n",
    "                tempList[[row]]<-(as.numeric(df$position)+200+1)\n",
    "                rawCounts[row, col] <- nrow(df)\n",
    "                j<-j+1\n",
    "            }\n",
    "            readList[[col]] <- tempList\n",
    "        }\n",
    "                       \n",
    "        MMD@Reads <- list('Center'=readList)\n",
    "        MMD@RawTotalCounts = rawCounts\n",
    "        MMD <- compDists(MMD,dist.method='MMD2')\n",
    "        dists <-MMD@DISTs$MMD2\n",
    "        write.csv(dists, file = paste0(dirname, \"/dists.csv\"))\n",
    "    }\n",
    "}"
   ]
  },
  {
   "cell_type": "code",
   "execution_count": 7,
   "metadata": {
    "scrolled": false
   },
   "outputs": [
    {
     "name": "stdout",
     "output_type": "stream",
     "text": [
      "\n",
      "Error in print(length(peaks)) : object 'peaks' not found\n"
     ]
    },
    {
     "name": "stderr",
     "output_type": "stream",
     "text": [
      "/Users/dhelekal/anaconda3/envs/py35v3/lib/python3.5/site-packages/rpy2/rinterface/__init__.py:145: RRuntimeWarning: Error in print(length(peaks)) : object 'peaks' not found\n",
      "\n",
      "  warnings.warn(x, RRuntimeWarning)\n"
     ]
    }
   ],
   "source": [
    "%%R\n",
    "print(length(peaks))"
   ]
  },
  {
   "cell_type": "code",
   "execution_count": null,
   "metadata": {},
   "outputs": [],
   "source": []
  },
  {
   "cell_type": "code",
   "execution_count": null,
   "metadata": {},
   "outputs": [],
   "source": []
  }
 ],
 "metadata": {
  "kernelspec": {
   "display_name": "Python 3",
   "language": "python",
   "name": "python3"
  },
  "language_info": {
   "codemirror_mode": {
    "name": "ipython",
    "version": 3
   },
   "file_extension": ".py",
   "mimetype": "text/x-python",
   "name": "python",
   "nbconvert_exporter": "python",
   "pygments_lexer": "ipython3",
   "version": "3.5.6"
  }
 },
 "nbformat": 4,
 "nbformat_minor": 2
}
