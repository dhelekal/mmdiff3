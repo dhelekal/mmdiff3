{
 "cells": [
  {
   "cell_type": "code",
   "execution_count": 7,
   "metadata": {},
   "outputs": [
    {
     "name": "stdout",
     "output_type": "stream",
     "text": [
      "The rpy2.ipython extension is already loaded. To reload it, use:\n",
      "  %reload_ext rpy2.ipython\n",
      "The rpy2.ipython extension is already loaded. To reload it, use:\n",
      "  %reload_ext rpy2.ipython\n"
     ]
    }
   ],
   "source": [
    "%load_ext rpy2.ipython"
   ]
  },
  {
   "cell_type": "code",
   "execution_count": 2,
   "metadata": {},
   "outputs": [
    {
     "name": "stdout",
     "output_type": "stream",
     "text": [
      "TensorFlow version: 1.10.0\n",
      "TensorFlow version: 1.10.0\n",
      "TensorFlow version: 1.10.0\n"
     ]
    },
    {
     "name": "stderr",
     "output_type": "stream",
     "text": [
      "2019-06-07 15:03:38.090797: I tensorflow/core/platform/cpu_feature_guard.cc:141] Your CPU supports instructions that this TensorFlow binary was not compiled to use: SSE4.1 SSE4.2 AVX AVX2 FMA\n",
      "2019-06-07 15:03:45.465961: I tensorflow/core/platform/cpu_feature_guard.cc:141] Your CPU supports instructions that this TensorFlow binary was not compiled to use: SSE4.1 SSE4.2 AVX AVX2 FMA\n",
      "2019-06-07 15:03:53.218328: I tensorflow/core/platform/cpu_feature_guard.cc:141] Your CPU supports instructions that this TensorFlow binary was not compiled to use: SSE4.1 SSE4.2 AVX AVX2 FMA\n"
     ]
    }
   ],
   "source": [
    "%%bash\n",
    "export WD=~/Simulation_result\n",
    "export CONF=$(pwd)/Exp_conf_test\n",
    "export SCRIPT=$(pwd)/simulation.py\n",
    "\n",
    "mkdir $WD\n",
    "cd $WD\n",
    "\n",
    "for CONFIG in $CONF/*.json\n",
    "do\n",
    "    python3 $SCRIPT $CONFIG\n",
    "done"
   ]
  },
  {
   "cell_type": "code",
   "execution_count": 8,
   "metadata": {},
   "outputs": [],
   "source": [
    "%%R\n",
    "experiments <- list.dirs(path = \"~/Simulation_result\", full.names = TRUE, recursive = FALSE)\n",
    "\n",
    "datalist <- c()\n",
    "x <- c(\"Experiment\", \"Pattern\", \"Peak\", \"Path\")\n",
    "\n",
    "for (experiment in experiments){\n",
    "    exp_name <- basename(experiment)\n",
    "    patterns <- list.dirs(path = experiment, full.names = TRUE, recursive = FALSE)\n",
    "    for (pattern in patterns) {\n",
    "        pattern_name<-basename(pattern)\n",
    "        peaks <- list.dirs(path = pattern, full.names = TRUE, recursive = FALSE)\n",
    "        for (peak in peaks) {\n",
    "            peak_name<-basename(peak)\n",
    "            peak_file <- list.files(path = peak, full.names = TRUE, recursive = FALSE)[1]\n",
    "            datalist <- rbind(datalist, c(exp_name,pattern_name,peak_name,peak_file))\n",
    "        }\n",
    "    }\n",
    "}\n",
    "\n",
    "datadf = data.frame(datalist)\n",
    "colnames(datadf) <- x"
   ]
  },
  {
   "cell_type": "code",
   "execution_count": 9,
   "metadata": {},
   "outputs": [
    {
     "name": "stderr",
     "output_type": "stream",
     "text": [
      "mkdir: out: File exists\n",
      "mkdir: out: File exists\n"
     ]
    }
   ],
   "source": [
    "%%bash\n",
    "mkdir out"
   ]
  },
  {
   "cell_type": "code",
   "execution_count": 10,
   "metadata": {},
   "outputs": [],
   "source": [
    "%%R\n",
    "library(MMDiff3)\n",
    "library(reshape2)\n",
    "library(ggplot2)\n",
    "library(GenomicRanges)\n",
    "library(DiffBind)\n",
    "library(devtools)"
   ]
  },
  {
   "cell_type": "code",
   "execution_count": 24,
   "metadata": {},
   "outputs": [
    {
     "data": {
      "text/plain": [
       "[1] \"./out/Experiment One/pattern_0\"\n",
       "[1] 10\n",
       "[1] 4\n",
       "[1] 591.1413\n",
       "[1] \"./out/Experiment One/pattern_1\"\n",
       "[1] 10\n",
       "[1] 4\n",
       "[1] 619.4255\n",
       "[1] \"./out/Experiment One/pattern_2\"\n",
       "[1] 10\n",
       "[1] 4\n",
       "[1] 609.1725\n",
       "[1] \"./out/Experiment Three/pattern_0\"\n",
       "[1] 10\n",
       "[1] 4\n",
       "[1] 616.9507\n",
       "[1] \"./out/Experiment Three/pattern_1\"\n",
       "[1] 10\n",
       "[1] 4\n",
       "[1] 607.4047\n",
       "[1] \"./out/Experiment Three/pattern_2\"\n",
       "[1] 10\n",
       "[1] 4\n",
       "[1] 634.9819\n",
       "[1] \"./out/Experiment Two/pattern_0\"\n",
       "[1] 10\n",
       "[1] 4\n",
       "[1] 596.975\n",
       "[1] \"./out/Experiment Two/pattern_1\"\n",
       "[1] 10\n",
       "[1] 4\n",
       "[1] 628.0876\n",
       "[1] \"./out/Experiment Two/pattern_2\"\n",
       "[1] 10\n",
       "[1] 4\n",
       "[1] 614.4758\n"
      ]
     },
     "metadata": {},
     "output_type": "display_data"
    },
    {
     "data": {
      "text/plain": [
       "[1] \"./out/Experiment One/pattern_0\"\n",
       "[1] 10\n",
       "[1] 4\n",
       "[1] 591.1413\n",
       "[1] \"./out/Experiment One/pattern_1\"\n",
       "[1] 10\n",
       "[1] 4\n",
       "[1] 619.4255\n",
       "[1] \"./out/Experiment One/pattern_2\"\n",
       "[1] 10\n",
       "[1] 4\n",
       "[1] 609.1725\n",
       "[1] \"./out/Experiment Three/pattern_0\"\n",
       "[1] 10\n",
       "[1] 4\n",
       "[1] 616.9507\n",
       "[1] \"./out/Experiment Three/pattern_1\"\n",
       "[1] 10\n",
       "[1] 4\n",
       "[1] 607.4047\n",
       "[1] \"./out/Experiment Three/pattern_2\"\n",
       "[1] 10\n",
       "[1] 4\n",
       "[1] 634.9819\n",
       "[1] \"./out/Experiment Two/pattern_0\"\n",
       "[1] 10\n",
       "[1] 4\n",
       "[1] 596.975\n",
       "[1] \"./out/Experiment Two/pattern_1\"\n",
       "[1] 10\n",
       "[1] 4\n",
       "[1] 628.0876\n",
       "[1] \"./out/Experiment Two/pattern_2\"\n",
       "[1] 10\n",
       "[1] 4\n",
       "[1] 614.4758\n"
      ]
     },
     "metadata": {},
     "output_type": "display_data"
    }
   ],
   "source": [
    "%%R\n",
    "replicas <- as.list(unique(datadf[['Experiment']]))\n",
    "n_mods <- 10\n",
    "\n",
    "modnames<-sapply(0:9, function(i) paste0('mod_',i))\n",
    "samplesheet <- data.frame(list(modnames, modnames, rep(1, 10), rep('Ctr', 10), rep(1,10), rep('macs', 10)))\n",
    "colnames(samplesheet)<-c('SampleID', 'Tissue', 'Factor', 'Condition', 'Replicate', 'PeakCaller')\n",
    "\n",
    "write.csv(samplesheet,'out/SampleSheet.csv', row.names=FALSE)\n",
    "for (replica in replicas){\n",
    "    replica_df <- subset(datadf, Experiment == replica)\n",
    "    peaks <- as.list(unique(replica_df[['Peak']]))\n",
    "    patterns <- as.list(unique(replica_df[['Pattern']]))\n",
    "    \n",
    "    for (pattern in patterns) { \n",
    "        ExperimentData <- list(genome='none',\n",
    "                       dataDir=\".\",\n",
    "                       sampleSheet =\"out/SampleSheet.csv\")\n",
    "        MetaData <- list('ExpData' = ExperimentData)\n",
    "        MMD <- DBAmmd(MetaData)\n",
    "\n",
    "        peak_df <- data.frame(chr=c(0:(length(peaks)-1)))\n",
    "        peak_df$start <- 0\n",
    "        peak_df$end <- 3300\n",
    "        regions <- makeGRangesFromDataFrame(peak_df)\n",
    "        MMD <- setRegions(MMD, regions)\n",
    "    \n",
    "        Meta <- metaData(MMD)\n",
    "        Meta$AnaData$pairedEnd <- rep(FALSE, n_mods)\n",
    "        Meta$AnaData$PeakBoundary <- 200\n",
    "        MMD@MetaData <- Meta\n",
    "        ################################   \n",
    "        pattern_df = subset(replica_df, Pattern == pattern)\n",
    "        dir.create(paste0(\"./out\",\"/\",replica))\n",
    "        dirname <- paste0(\"./out\",\"/\",replica,\"/\",pattern)\n",
    "        dir.create(dirname)\n",
    "                \n",
    "        read_data = by(data = pattern_df$Path,\n",
    "                     INDICES=pattern_df$Peak,\n",
    "                     FUN=function(x) data.frame(read.csv(file=paste(x), header=TRUE, sep=\",\")))\n",
    "    \n",
    "        readList <- list()\n",
    "        rawCounts = matrix(, nrow = length(peaks), ncol = n_mods)\n",
    "\n",
    "        rnames <-c()\n",
    "        cnames <-c()\n",
    "          \n",
    "        for (i in c(0:(length(peaks)-1))){\n",
    "            rnames <-c(rnames, paste(\"chr\",i, \":0-3300\",sep=\"\"))\n",
    "        }\n",
    "                       \n",
    "        for(i in c(0:(n_mods-1))) {\n",
    "            cnames <-c(cnames, paste(\"mod_\",i, sep=\"\"))\n",
    "        }\n",
    "                       \n",
    "        rownames(rawCounts) <- rnames\n",
    "        colnames(rawCounts) <- cnames\n",
    "                       \n",
    "        for(i in c(0:(n_mods-1))) {\n",
    "            col <- paste(\"mod_\",i, sep=\"\")\n",
    "            tempList = list() \n",
    "            j<-0\n",
    "            for(peak in peaks){\n",
    "                row<-paste(\"chr\",j, \":0-3300\",sep=\"\")\n",
    "                df<-subset(read_data[[peak]], modification==i)\n",
    "                tempList[[row]]<-(as.numeric(df$position)+200+1)\n",
    "                rawCounts[row, col] <- nrow(df)\n",
    "                j<-j+1\n",
    "            }\n",
    "            readList[[col]] <- tempList\n",
    "        }\n",
    "                       \n",
    "        MMD@Reads <- list('Center'=readList)\n",
    "        MMD@RawTotalCounts = rawCounts\n",
    "        MMD <- compDists(MMD,dist.method='MMD2')\n",
    "        dists <-MMD@DISTs$MMD2\n",
    "        write.csv(dists, file = paste0(dirname, \"/dists.csv\"))\n",
    "    }\n",
    "}"
   ]
  },
  {
   "cell_type": "code",
   "execution_count": 12,
   "metadata": {
    "scrolled": false
   },
   "outputs": [
    {
     "data": {
      "text/plain": [
       "[1] 10\n"
      ]
     },
     "metadata": {},
     "output_type": "display_data"
    },
    {
     "data": {
      "text/plain": [
       "[1] 10\n"
      ]
     },
     "metadata": {},
     "output_type": "display_data"
    }
   ],
   "source": [
    "%%R\n",
    "print(length(peaks))"
   ]
  },
  {
   "cell_type": "code",
   "execution_count": null,
   "metadata": {},
   "outputs": [],
   "source": []
  },
  {
   "cell_type": "code",
   "execution_count": null,
   "metadata": {},
   "outputs": [],
   "source": []
  }
 ],
 "metadata": {
  "kernelspec": {
   "display_name": "Python 3",
   "language": "python",
   "name": "python3"
  },
  "language_info": {
   "codemirror_mode": {
    "name": "ipython",
    "version": 3
   },
   "file_extension": ".py",
   "mimetype": "text/x-python",
   "name": "python",
   "nbconvert_exporter": "python",
   "pygments_lexer": "ipython3",
   "version": "3.5.6"
  }
 },
 "nbformat": 4,
 "nbformat_minor": 2
}
